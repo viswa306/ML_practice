{
 "cells": [
  {
   "cell_type": "markdown",
   "metadata": {},
   "source": [
    "<img src=\"http://cfs22.simplicdn.net/ice9/new_logo.svgz \"/>\n",
    "\n",
    "# Assignment 01: Evaluate the GDP Dataset\n",
    "\n",
    "*The comments/sections provided are your cues to perform the assignment. You don't need to limit yourself to the number of rows/cells provided. You can add additional rows in each section to add more lines of code.*\n",
    "\n",
    "*If at any point in time you need help on solving this assignment, view our demo video to understand the different steps of the code.*\n",
    "\n",
    "**Happy coding!**\n",
    "\n",
    "* * *"
   ]
  },
  {
   "cell_type": "markdown",
   "metadata": {},
   "source": [
    "#### 1: View and add the dataset"
   ]
  },
  {
   "cell_type": "code",
   "execution_count": 1,
   "metadata": {},
   "outputs": [],
   "source": [
    "#Import required library\n",
    "import pandas as pd\n",
    "import numpy as np\n"
   ]
  },
  {
   "cell_type": "code",
   "execution_count": 2,
   "metadata": {},
   "outputs": [],
   "source": [
    "#Manually add the dataset\n",
    "countries = np.array(['Algeria','Angola','Argentina','Australia','Austria','Bahamas','Bangladesh','Belarus','Belgium','Bhutan','Brazil','Bulgaria','Cambodia','Cameroon','Chile','China','Colombia','Cyprus','Denmark','El Salvador','Estonia','Ethiopia','Fiji','Finland','France','Georgia','Ghana','Grenada','Guinea','Haiti','Honduras','Hungary','India','Indonesia','Ireland','Italy','Japan','Kenya', 'South Korea','Liberia','Malaysia','Mexico', 'Morocco','Nepal','New Zealand','Norway','Pakistan', 'Peru','Qatar','Russia','Singapore','South Africa','Spain','Sweden','Switzerland','Thailand', 'United Arab Emirates','United Kingdom','United States','Uruguay','Venezuela','Vietnam','Zimbabwe'])"
   ]
  },
  {
   "cell_type": "code",
   "execution_count": 4,
   "metadata": {
    "collapsed": true
   },
   "outputs": [
    {
     "data": {
      "text/plain": [
       "array(['Algeria', 'Angola', 'Argentina', 'Australia', 'Austria',\n",
       "       'Bahamas', 'Bangladesh', 'Belarus', 'Belgium', 'Bhutan', 'Brazil',\n",
       "       'Bulgaria', 'Cambodia', 'Cameroon', 'Chile', 'China', 'Colombia',\n",
       "       'Cyprus', 'Denmark', 'El Salvador', 'Estonia', 'Ethiopia', 'Fiji',\n",
       "       'Finland', 'France', 'Georgia', 'Ghana', 'Grenada', 'Guinea',\n",
       "       'Haiti', 'Honduras', 'Hungary', 'India', 'Indonesia', 'Ireland',\n",
       "       'Italy', 'Japan', 'Kenya', 'South Korea', 'Liberia', 'Malaysia',\n",
       "       'Mexico', 'Morocco', 'Nepal', 'New Zealand', 'Norway', 'Pakistan',\n",
       "       'Peru', 'Qatar', 'Russia', 'Singapore', 'South Africa', 'Spain',\n",
       "       'Sweden', 'Switzerland', 'Thailand', 'United Arab Emirates',\n",
       "       'United Kingdom', 'United States', 'Uruguay', 'Venezuela',\n",
       "       'Vietnam', 'Zimbabwe'], dtype='<U20')"
      ]
     },
     "execution_count": 4,
     "metadata": {},
     "output_type": "execute_result"
    }
   ],
   "source": [
    "countries"
   ]
  },
  {
   "cell_type": "code",
   "execution_count": 3,
   "metadata": {},
   "outputs": [],
   "source": [
    "gdp_per_captia =np.array([2255.225482,629.9553062,11601.63022,25306.82494,27266.40335,19466.99052,588.3691778,2890.345675,24733.62696,1445.760002,4803.398244,2618.876037,590.4521124,665.7982328,7122.938458,2639.54156,3362.4656,15378.16704,30860.12808,2579.115607,6525.541272,229.6769525,2242.689259,27570.4852,23016.84778,1334.646773,402.6953275,6047.200797,394.1156638,385.5793827,1414.072488,5745.981529,837.7464011,1206.991065,27715.52837,18937.24998,39578.07441,478.2194906,16684.21278,279.2204061,5345.213415,6288.25324,1908.304416,274.8728621,14646.42094,40034.85063,672.1547506,3359.517402,36152.66676,3054.727742,33529.83052,3825.093781,15428.32098,33630.24604,39170.41371,2699.123242,21058.43643,28272.40661,37691.02733,9581.05659,5671.912202,757.4009286,347.7456605])"
   ]
  },
  {
   "cell_type": "code",
   "execution_count": 5,
   "metadata": {
    "collapsed": true
   },
   "outputs": [
    {
     "data": {
      "text/plain": [
       "array([ 2255.225482 ,   629.9553062, 11601.63022  , 25306.82494  ,\n",
       "       27266.40335  , 19466.99052  ,   588.3691778,  2890.345675 ,\n",
       "       24733.62696  ,  1445.760002 ,  4803.398244 ,  2618.876037 ,\n",
       "         590.4521124,   665.7982328,  7122.938458 ,  2639.54156  ,\n",
       "        3362.4656   , 15378.16704  , 30860.12808  ,  2579.115607 ,\n",
       "        6525.541272 ,   229.6769525,  2242.689259 , 27570.4852   ,\n",
       "       23016.84778  ,  1334.646773 ,   402.6953275,  6047.200797 ,\n",
       "         394.1156638,   385.5793827,  1414.072488 ,  5745.981529 ,\n",
       "         837.7464011,  1206.991065 , 27715.52837  , 18937.24998  ,\n",
       "       39578.07441  ,   478.2194906, 16684.21278  ,   279.2204061,\n",
       "        5345.213415 ,  6288.25324  ,  1908.304416 ,   274.8728621,\n",
       "       14646.42094  , 40034.85063  ,   672.1547506,  3359.517402 ,\n",
       "       36152.66676  ,  3054.727742 , 33529.83052  ,  3825.093781 ,\n",
       "       15428.32098  , 33630.24604  , 39170.41371  ,  2699.123242 ,\n",
       "       21058.43643  , 28272.40661  , 37691.02733  ,  9581.05659  ,\n",
       "        5671.912202 ,   757.4009286,   347.7456605])"
      ]
     },
     "execution_count": 5,
     "metadata": {},
     "output_type": "execute_result"
    }
   ],
   "source": [
    "gdp_per_captia"
   ]
  },
  {
   "cell_type": "markdown",
   "metadata": {
    "collapsed": true
   },
   "source": [
    "#### 2: Find and print the name of the country with the highest GDP"
   ]
  },
  {
   "cell_type": "code",
   "execution_count": 6,
   "metadata": {},
   "outputs": [],
   "source": [
    "#Use the argmax() method to find the highest GDP\n",
    "max_gdp_per_captia = gdp_per_captia.argmax()"
   ]
  },
  {
   "cell_type": "code",
   "execution_count": 7,
   "metadata": {},
   "outputs": [
    {
     "data": {
      "text/plain": [
       "45"
      ]
     },
     "execution_count": 7,
     "metadata": {},
     "output_type": "execute_result"
    }
   ],
   "source": [
    "max_gdp_per_captia"
   ]
  },
  {
   "cell_type": "code",
   "execution_count": 8,
   "metadata": {},
   "outputs": [],
   "source": [
    "country_with_max_gdp_per_captia = countries[max_gdp_per_captia]"
   ]
  },
  {
   "cell_type": "code",
   "execution_count": 9,
   "metadata": {},
   "outputs": [
    {
     "data": {
      "text/plain": [
       "'Norway'"
      ]
     },
     "execution_count": 9,
     "metadata": {},
     "output_type": "execute_result"
    }
   ],
   "source": [
    "country_with_max_gdp_per_captia"
   ]
  },
  {
   "cell_type": "code",
   "execution_count": 10,
   "metadata": {},
   "outputs": [
    {
     "data": {
      "text/plain": [
       "'Norway'"
      ]
     },
     "execution_count": 10,
     "metadata": {},
     "output_type": "execute_result"
    }
   ],
   "source": [
    "#Print the name of the country\n",
    "country_with_max_gdp_per_captia"
   ]
  },
  {
   "cell_type": "markdown",
   "metadata": {},
   "source": [
    "#### 3: Find and print the name of the country with the lowest GDP"
   ]
  },
  {
   "cell_type": "code",
   "execution_count": 11,
   "metadata": {},
   "outputs": [],
   "source": [
    "#Use the argmin() method to find the lowest GDP\n",
    "low_gdp_per_captia =gdp_per_captia.argmin()"
   ]
  },
  {
   "cell_type": "code",
   "execution_count": 12,
   "metadata": {},
   "outputs": [
    {
     "data": {
      "text/plain": [
       "21"
      ]
     },
     "execution_count": 12,
     "metadata": {},
     "output_type": "execute_result"
    }
   ],
   "source": [
    "low_gdp_per_captia"
   ]
  },
  {
   "cell_type": "code",
   "execution_count": 13,
   "metadata": {},
   "outputs": [],
   "source": [
    "#Print the name of the country\n",
    "country_with_min_gdp_per_captia = countries[low_gdp_per_captia]"
   ]
  },
  {
   "cell_type": "code",
   "execution_count": 14,
   "metadata": {},
   "outputs": [
    {
     "data": {
      "text/plain": [
       "'Ethiopia'"
      ]
     },
     "execution_count": 14,
     "metadata": {},
     "output_type": "execute_result"
    }
   ],
   "source": [
    "country_with_min_gdp_per_captia "
   ]
  },
  {
   "cell_type": "markdown",
   "metadata": {},
   "source": [
    "#### 4: Print out text ('evaluating country') and input value ('country name') iteratively"
   ]
  },
  {
   "cell_type": "code",
   "execution_count": 29,
   "metadata": {
    "collapsed": true
   },
   "outputs": [
    {
     "name": "stdout",
     "output_type": "stream",
     "text": [
      "evaluating country---- Algeria\n",
      "evaluating country---- Angola\n",
      "evaluating country---- Argentina\n",
      "evaluating country---- Australia\n",
      "evaluating country---- Austria\n",
      "evaluating country---- Bahamas\n",
      "evaluating country---- Bangladesh\n",
      "evaluating country---- Belarus\n",
      "evaluating country---- Belgium\n",
      "evaluating country---- Bhutan\n",
      "evaluating country---- Brazil\n",
      "evaluating country---- Bulgaria\n",
      "evaluating country---- Cambodia\n",
      "evaluating country---- Cameroon\n",
      "evaluating country---- Chile\n",
      "evaluating country---- China\n",
      "evaluating country---- Colombia\n",
      "evaluating country---- Cyprus\n",
      "evaluating country---- Denmark\n",
      "evaluating country---- El Salvador\n",
      "evaluating country---- Estonia\n",
      "evaluating country---- Ethiopia\n",
      "evaluating country---- Fiji\n",
      "evaluating country---- Finland\n",
      "evaluating country---- France\n",
      "evaluating country---- Georgia\n",
      "evaluating country---- Ghana\n",
      "evaluating country---- Grenada\n",
      "evaluating country---- Guinea\n",
      "evaluating country---- Haiti\n",
      "evaluating country---- Honduras\n",
      "evaluating country---- Hungary\n",
      "evaluating country---- India\n",
      "evaluating country---- Indonesia\n",
      "evaluating country---- Ireland\n",
      "evaluating country---- Italy\n",
      "evaluating country---- Japan\n",
      "evaluating country---- Kenya\n",
      "evaluating country---- South Korea\n",
      "evaluating country---- Liberia\n",
      "evaluating country---- Malaysia\n",
      "evaluating country---- Mexico\n",
      "evaluating country---- Morocco\n",
      "evaluating country---- Nepal\n",
      "evaluating country---- New Zealand\n",
      "evaluating country---- Norway\n",
      "evaluating country---- Pakistan\n",
      "evaluating country---- Peru\n",
      "evaluating country---- Qatar\n",
      "evaluating country---- Russia\n",
      "evaluating country---- Singapore\n",
      "evaluating country---- South Africa\n",
      "evaluating country---- Spain\n",
      "evaluating country---- Sweden\n",
      "evaluating country---- Switzerland\n",
      "evaluating country---- Thailand\n",
      "evaluating country---- United Arab Emirates\n",
      "evaluating country---- United Kingdom\n",
      "evaluating country---- United States\n",
      "evaluating country---- Uruguay\n",
      "evaluating country---- Venezuela\n",
      "evaluating country---- Vietnam\n",
      "evaluating country---- Zimbabwe\n"
     ]
    }
   ],
   "source": [
    "#Use a for loop to print the required output\n",
    "for a in countries:\n",
    "    \n",
    "    print('evaluating country---- {}'.format(a))\n"
   ]
  },
  {
   "cell_type": "code",
   "execution_count": 28,
   "metadata": {
    "collapsed": true
   },
   "outputs": [
    {
     "name": "stdout",
     "output_type": "stream",
     "text": [
      "evaluating country==== Algeria\n",
      "evaluating country==== Angola\n",
      "evaluating country==== Argentina\n",
      "evaluating country==== Australia\n",
      "evaluating country==== Austria\n",
      "evaluating country==== Bahamas\n",
      "evaluating country==== Bangladesh\n",
      "evaluating country==== Belarus\n",
      "evaluating country==== Belgium\n",
      "evaluating country==== Bhutan\n",
      "evaluating country==== Brazil\n",
      "evaluating country==== Bulgaria\n",
      "evaluating country==== Cambodia\n",
      "evaluating country==== Cameroon\n",
      "evaluating country==== Chile\n",
      "evaluating country==== China\n",
      "evaluating country==== Colombia\n",
      "evaluating country==== Cyprus\n",
      "evaluating country==== Denmark\n",
      "evaluating country==== El Salvador\n",
      "evaluating country==== Estonia\n",
      "evaluating country==== Ethiopia\n",
      "evaluating country==== Fiji\n",
      "evaluating country==== Finland\n",
      "evaluating country==== France\n",
      "evaluating country==== Georgia\n",
      "evaluating country==== Ghana\n",
      "evaluating country==== Grenada\n",
      "evaluating country==== Guinea\n",
      "evaluating country==== Haiti\n",
      "evaluating country==== Honduras\n",
      "evaluating country==== Hungary\n",
      "evaluating country==== India\n",
      "evaluating country==== Indonesia\n",
      "evaluating country==== Ireland\n",
      "evaluating country==== Italy\n",
      "evaluating country==== Japan\n",
      "evaluating country==== Kenya\n",
      "evaluating country==== South Korea\n",
      "evaluating country==== Liberia\n",
      "evaluating country==== Malaysia\n",
      "evaluating country==== Mexico\n",
      "evaluating country==== Morocco\n",
      "evaluating country==== Nepal\n",
      "evaluating country==== New Zealand\n",
      "evaluating country==== Norway\n",
      "evaluating country==== Pakistan\n",
      "evaluating country==== Peru\n",
      "evaluating country==== Qatar\n",
      "evaluating country==== Russia\n",
      "evaluating country==== Singapore\n",
      "evaluating country==== South Africa\n",
      "evaluating country==== Spain\n",
      "evaluating country==== Sweden\n",
      "evaluating country==== Switzerland\n",
      "evaluating country==== Thailand\n",
      "evaluating country==== United Arab Emirates\n",
      "evaluating country==== United Kingdom\n",
      "evaluating country==== United States\n",
      "evaluating country==== Uruguay\n",
      "evaluating country==== Venezuela\n",
      "evaluating country==== Vietnam\n",
      "evaluating country==== Zimbabwe\n"
     ]
    }
   ],
   "source": [
    "for country in countries:\n",
    "    print(f'evaluating country==== {country}')"
   ]
  },
  {
   "cell_type": "markdown",
   "metadata": {},
   "source": [
    "#### 5: Print out the entire list of the countries with their GDPs"
   ]
  },
  {
   "cell_type": "code",
   "execution_count": 38,
   "metadata": {},
   "outputs": [
    {
     "name": "stdout",
     "output_type": "stream",
     "text": [
      " country: Algeria   per captia gdp  :2255.225482\n",
      " country: Angola   per captia gdp  :629.9553062\n",
      " country: Argentina   per captia gdp  :11601.63022\n",
      " country: Australia   per captia gdp  :25306.82494\n",
      " country: Austria   per captia gdp  :27266.40335\n",
      " country: Bahamas   per captia gdp  :19466.99052\n",
      " country: Bangladesh   per captia gdp  :588.3691778\n",
      " country: Belarus   per captia gdp  :2890.345675\n",
      " country: Belgium   per captia gdp  :24733.62696\n",
      " country: Bhutan   per captia gdp  :1445.760002\n",
      " country: Brazil   per captia gdp  :4803.398244\n",
      " country: Bulgaria   per captia gdp  :2618.876037\n",
      " country: Cambodia   per captia gdp  :590.4521124\n",
      " country: Cameroon   per captia gdp  :665.7982328\n",
      " country: Chile   per captia gdp  :7122.938458\n",
      " country: China   per captia gdp  :2639.54156\n",
      " country: Colombia   per captia gdp  :3362.4656\n",
      " country: Cyprus   per captia gdp  :15378.16704\n",
      " country: Denmark   per captia gdp  :30860.12808\n",
      " country: El Salvador   per captia gdp  :2579.115607\n",
      " country: Estonia   per captia gdp  :6525.541272\n",
      " country: Ethiopia   per captia gdp  :229.6769525\n",
      " country: Fiji   per captia gdp  :2242.689259\n",
      " country: Finland   per captia gdp  :27570.4852\n",
      " country: France   per captia gdp  :23016.84778\n",
      " country: Georgia   per captia gdp  :1334.646773\n",
      " country: Ghana   per captia gdp  :402.6953275\n",
      " country: Grenada   per captia gdp  :6047.200797\n",
      " country: Guinea   per captia gdp  :394.1156638\n",
      " country: Haiti   per captia gdp  :385.5793827\n",
      " country: Honduras   per captia gdp  :1414.072488\n",
      " country: Hungary   per captia gdp  :5745.981529\n",
      " country: India   per captia gdp  :837.7464011\n",
      " country: Indonesia   per captia gdp  :1206.991065\n",
      " country: Ireland   per captia gdp  :27715.52837\n",
      " country: Italy   per captia gdp  :18937.24998\n",
      " country: Japan   per captia gdp  :39578.07441\n",
      " country: Kenya   per captia gdp  :478.2194906\n",
      " country: South Korea   per captia gdp  :16684.21278\n",
      " country: Liberia   per captia gdp  :279.2204061\n",
      " country: Malaysia   per captia gdp  :5345.213415\n",
      " country: Mexico   per captia gdp  :6288.25324\n",
      " country: Morocco   per captia gdp  :1908.304416\n",
      " country: Nepal   per captia gdp  :274.8728621\n",
      " country: New Zealand   per captia gdp  :14646.42094\n",
      " country: Norway   per captia gdp  :40034.85063\n",
      " country: Pakistan   per captia gdp  :672.1547506\n",
      " country: Peru   per captia gdp  :3359.517402\n",
      " country: Qatar   per captia gdp  :36152.66676\n",
      " country: Russia   per captia gdp  :3054.727742\n",
      " country: Singapore   per captia gdp  :33529.83052\n",
      " country: South Africa   per captia gdp  :3825.093781\n",
      " country: Spain   per captia gdp  :15428.32098\n",
      " country: Sweden   per captia gdp  :33630.24604\n",
      " country: Switzerland   per captia gdp  :39170.41371\n",
      " country: Thailand   per captia gdp  :2699.123242\n",
      " country: United Arab Emirates   per captia gdp  :21058.43643\n",
      " country: United Kingdom   per captia gdp  :28272.40661\n",
      " country: United States   per captia gdp  :37691.02733\n",
      " country: Uruguay   per captia gdp  :9581.05659\n",
      " country: Venezuela   per captia gdp  :5671.912202\n",
      " country: Vietnam   per captia gdp  :757.4009286\n",
      " country: Zimbabwe   per captia gdp  :347.7456605\n"
     ]
    }
   ],
   "source": [
    "#Use a for loop to print the required list\n",
    "for i in range(len(countries)):\n",
    "    country = countries[i]\n",
    "    country_gdp_per_captia = gdp_per_captia[i]\n",
    "    print(f' country: {country}   per captia gdp  :{country_gdp_per_captia}')\n",
    "#     print('country{} per captia gdp is {}'.format(country,country_gdp_per_captia))\n",
    "\n",
    "    \n"
   ]
  },
  {
   "cell_type": "markdown",
   "metadata": {},
   "source": [
    "#### 6: Print the following:\n",
    "1. Highest GPD value\n",
    "2. Lowest GDP value\n",
    "3. Mean GDP value\n",
    "4. Standardized GDP value\n",
    "5. Sum of all the GDPs"
   ]
  },
  {
   "cell_type": "code",
   "execution_count": 39,
   "metadata": {},
   "outputs": [
    {
     "name": "stdout",
     "output_type": "stream",
     "text": [
      "40034.85063\n"
     ]
    }
   ],
   "source": [
    "print(gdp_per_captia.max())"
   ]
  },
  {
   "cell_type": "code",
   "execution_count": 40,
   "metadata": {},
   "outputs": [
    {
     "name": "stdout",
     "output_type": "stream",
     "text": [
      "347.7456605\n"
     ]
    }
   ],
   "source": [
    "print(country_gdp_per_captia.min())"
   ]
  },
  {
   "cell_type": "code",
   "execution_count": 41,
   "metadata": {},
   "outputs": [
    {
     "name": "stdout",
     "output_type": "stream",
     "text": [
      "347.7456605\n"
     ]
    }
   ],
   "source": [
    "print(country_gdp_per_captia.mean())"
   ]
  },
  {
   "cell_type": "code",
   "execution_count": 42,
   "metadata": {},
   "outputs": [
    {
     "name": "stdout",
     "output_type": "stream",
     "text": [
      "0.0\n"
     ]
    }
   ],
   "source": [
    "print(country_gdp_per_captia.std())"
   ]
  },
  {
   "cell_type": "code",
   "execution_count": 43,
   "metadata": {},
   "outputs": [
    {
     "name": "stdout",
     "output_type": "stream",
     "text": [
      "347.7456605\n"
     ]
    }
   ],
   "source": [
    "print(country_gdp_per_captia.sum())"
   ]
  }
 ],
 "metadata": {
  "kernelspec": {
   "display_name": "Python 3",
   "language": "python",
   "name": "python3"
  },
  "language_info": {
   "codemirror_mode": {
    "name": "ipython",
    "version": 3
   },
   "file_extension": ".py",
   "mimetype": "text/x-python",
   "name": "python",
   "nbconvert_exporter": "python",
   "pygments_lexer": "ipython3",
   "version": "3.7.4"
  }
 },
 "nbformat": 4,
 "nbformat_minor": 1
}
