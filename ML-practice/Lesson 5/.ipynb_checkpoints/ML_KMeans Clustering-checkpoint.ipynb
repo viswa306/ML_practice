{
 "cells": [
  {
   "cell_type": "markdown",
   "metadata": {},
   "source": [
    "## Kmeans Clustering:  A cluster is group of similar datapoints\n",
    "\n",
    "It is used : To extract the stucture of the data\n",
    "             To identify the group of the data(Greater similarity between the datapoints results in better clustering)\n",
    "             K-means finds the best centroids by alternatively assiging random centriods to a dataset and selecting mean data points from the resulting clusters to form new centroids.it continues this process iteratively until the model is optimized.\n",
    "             "
   ]
  },
  {
   "cell_type": "code",
   "execution_count": 1,
   "metadata": {},
   "outputs": [],
   "source": [
    "#import necessary library\n",
    "import pandas as pd\n",
    "import numpy as np\n"
   ]
  },
  {
   "cell_type": "code",
   "execution_count": 2,
   "metadata": {},
   "outputs": [],
   "source": [
    "# import KMeans class from sklearn.cluster\n",
    "from sklearn.cluster import KMeans"
   ]
  },
  {
   "cell_type": "code",
   "execution_count": 6,
   "metadata": {},
   "outputs": [],
   "source": [
    "#import make_blobs dataset from sklearn.cluster\n",
    "from sklearn import datasets\n",
    "from sklearn.datasets import make_blobs"
   ]
  },
  {
   "cell_type": "code",
   "execution_count": 7,
   "metadata": {},
   "outputs": [],
   "source": [
    "#define number of sample\n",
    "n_samples =300"
   ]
  },
  {
   "cell_type": "code",
   "execution_count": 8,
   "metadata": {},
   "outputs": [],
   "source": [
    "#define random state value to initialize the center\n",
    "random_state =20"
   ]
  },
  {
   "cell_type": "code",
   "execution_count": 9,
   "metadata": {},
   "outputs": [],
   "source": [
    "#define number of feature as 5\n",
    "X,y = make_blobs(n_samples = n_samples, n_features =5,random_state = None)"
   ]
  },
  {
   "cell_type": "code",
   "execution_count": 10,
   "metadata": {},
   "outputs": [],
   "source": [
    "# define number of cluster to be formed as 3 and in random state and fit features ino the model\n",
    "predict_y = KMeans(n_clusters=3,random_state = random_state).fit_predict(X)"
   ]
  },
  {
   "cell_type": "code",
   "execution_count": 11,
   "metadata": {},
   "outputs": [
    {
     "data": {
      "text/plain": [
       "array([0, 1, 1, 2, 2, 1, 1, 0, 2, 1, 2, 0, 2, 1, 2, 2, 0, 0, 0, 2, 1, 1,\n",
       "       1, 2, 2, 1, 0, 2, 1, 1, 1, 2, 1, 2, 2, 1, 2, 2, 0, 2, 1, 1, 2, 1,\n",
       "       0, 1, 0, 2, 0, 0, 0, 2, 0, 0, 2, 0, 0, 1, 0, 1, 2, 0, 2, 1, 1, 1,\n",
       "       1, 2, 2, 2, 2, 2, 1, 0, 1, 0, 2, 2, 2, 1, 0, 2, 2, 2, 2, 2, 0, 1,\n",
       "       0, 1, 0, 0, 2, 0, 1, 0, 2, 2, 2, 1, 0, 0, 2, 0, 1, 2, 2, 1, 0, 0,\n",
       "       1, 0, 0, 2, 0, 2, 2, 0, 0, 0, 1, 1, 2, 0, 0, 2, 1, 1, 1, 0, 2, 1,\n",
       "       1, 0, 2, 2, 1, 1, 2, 0, 2, 2, 1, 2, 2, 1, 2, 0, 1, 1, 0, 0, 0, 2,\n",
       "       2, 1, 0, 1, 0, 2, 0, 0, 2, 1, 0, 0, 1, 2, 2, 2, 0, 1, 1, 2, 2, 0,\n",
       "       2, 0, 2, 1, 2, 2, 1, 0, 1, 1, 0, 0, 2, 0, 1, 0, 2, 1, 0, 2, 0, 2,\n",
       "       1, 0, 1, 1, 2, 0, 1, 2, 1, 0, 0, 1, 1, 1, 1, 0, 1, 0, 1, 2, 1, 1,\n",
       "       0, 1, 1, 2, 1, 0, 2, 1, 1, 1, 2, 0, 0, 2, 1, 0, 1, 1, 0, 0, 0, 2,\n",
       "       2, 0, 2, 0, 1, 0, 2, 2, 1, 0, 0, 2, 2, 0, 0, 1, 2, 2, 0, 1, 2, 0,\n",
       "       2, 1, 1, 1, 0, 2, 0, 0, 1, 0, 1, 2, 1, 0, 2, 2, 1, 2, 1, 0, 0, 0,\n",
       "       1, 2, 0, 0, 0, 0, 1, 1, 0, 1, 2, 1, 1, 2])"
      ]
     },
     "execution_count": 11,
     "metadata": {},
     "output_type": "execute_result"
    }
   ],
   "source": [
    "#print the estimator prediciton\n",
    "predict_y"
   ]
  }
 ],
 "metadata": {
  "kernelspec": {
   "display_name": "Python 3",
   "language": "python",
   "name": "python3"
  },
  "language_info": {
   "codemirror_mode": {
    "name": "ipython",
    "version": 3
   },
   "file_extension": ".py",
   "mimetype": "text/x-python",
   "name": "python",
   "nbconvert_exporter": "python",
   "pygments_lexer": "ipython3",
   "version": "3.7.4"
  }
 },
 "nbformat": 4,
 "nbformat_minor": 2
}
